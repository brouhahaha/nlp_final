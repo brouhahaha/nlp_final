{
 "cells": [
  {
   "cell_type": "code",
   "execution_count": 1,
   "metadata": {},
   "outputs": [
    {
     "name": "stderr",
     "output_type": "stream",
     "text": [
      "[nltk_data] Downloading package stopwords to\n",
      "[nltk_data]     C:\\Users\\Maria\\AppData\\Roaming\\nltk_data...\n",
      "[nltk_data]   Package stopwords is already up-to-date!\n"
     ]
    },
    {
     "data": {
      "text/plain": [
       "True"
      ]
     },
     "execution_count": 1,
     "metadata": {},
     "output_type": "execute_result"
    }
   ],
   "source": [
    "import nltk\n",
    "nltk.download('stopwords')"
   ]
  },
  {
   "cell_type": "code",
   "execution_count": 2,
   "metadata": {},
   "outputs": [],
   "source": [
    "import re\n",
    "import numpy as np\n",
    "import pandas as pd\n",
    "from pprint import pprint\n",
    "\n",
    "# Gensim\n",
    "import gensim\n",
    "import gensim.corpora as corpora\n",
    "from gensim.utils import simple_preprocess\n",
    "from gensim.models import CoherenceModel\n"
   ]
  },
  {
   "cell_type": "code",
   "execution_count": 14,
   "metadata": {},
   "outputs": [],
   "source": [
    "from nltk.corpus import stopwords\n",
    "stop_words = stopwords.words('russian')"
   ]
  },
  {
   "cell_type": "code",
   "execution_count": 104,
   "metadata": {},
   "outputs": [],
   "source": [
    "stop_words = stop_words+['ресторан', 'интерьер', 'это', 'просто', 'очень', 'заведение', 'наш', 'свой', 'пока', 'который']"
   ]
  },
  {
   "cell_type": "code",
   "execution_count": 4,
   "metadata": {},
   "outputs": [],
   "source": [
    "import re\n",
    "import pymorphy2 as pm2 \n",
    "pmm = pm2.MorphAnalyzer() "
   ]
  },
  {
   "cell_type": "code",
   "execution_count": 24,
   "metadata": {},
   "outputs": [],
   "source": [
    "def cleanText(text):\n",
    "    text = text.lower()\n",
    "    text = re.sub('-', ' ', text)\n",
    "    text = re.sub(r'[^\\w\\s]','',text) \n",
    "    text = re.sub(r'\\d', '', text) \n",
    "    text = re.sub(r'[A-Za-z]', '', text)\n",
    "    text = [pmm.normal_forms(x)[0] for x in text.split() if x not in stop_words] \n",
    "    for i in text:\n",
    "        if i in stop_words:\n",
    "            text.remove(i)\n",
    "    return text"
   ]
  },
  {
   "cell_type": "code",
   "execution_count": 48,
   "metadata": {},
   "outputs": [],
   "source": [
    "for file in ['37516.txt', '26330.txt','30808.txt', '33838.txt']:\n",
    "    with open (file, encoding='utf-8') as f:\n",
    "        content = f.read()\n",
    "    cleaned = cleanText(content)\n",
    "    data.append(cleaned)"
   ]
  },
  {
   "cell_type": "code",
   "execution_count": 25,
   "metadata": {},
   "outputs": [],
   "source": [
    "data = []"
   ]
  },
  {
   "cell_type": "code",
   "execution_count": 175,
   "metadata": {},
   "outputs": [],
   "source": [
    "with open ('SentiRuEval_rest_train.xml', encoding='utf-8') as f:\n",
    "    content = f.read()\n",
    "    needed = re.findall('<text>.*?</text>', content)\n",
    "    n = [re.sub('</?text>', '', k) for k in needed[:5000]]\n",
    "    clean = [cleanText(content) for content in n]"
   ]
  },
  {
   "cell_type": "code",
   "execution_count": 164,
   "metadata": {},
   "outputs": [
    {
     "data": {
      "text/plain": [
       "19034"
      ]
     },
     "execution_count": 164,
     "metadata": {},
     "output_type": "execute_result"
    }
   ],
   "source": [
    "len(needed)"
   ]
  },
  {
   "cell_type": "code",
   "execution_count": 176,
   "metadata": {},
   "outputs": [],
   "source": [
    "data = clean"
   ]
  },
  {
   "cell_type": "code",
   "execution_count": 177,
   "metadata": {},
   "outputs": [],
   "source": [
    "id2word = corpora.Dictionary(data)"
   ]
  },
  {
   "cell_type": "code",
   "execution_count": 178,
   "metadata": {},
   "outputs": [],
   "source": [
    "corpus = [id2word.doc2bow(text) for text in data]"
   ]
  },
  {
   "cell_type": "code",
   "execution_count": 179,
   "metadata": {},
   "outputs": [],
   "source": [
    "lda_model = gensim.models.ldamodel.LdaModel(corpus=corpus,\n",
    "                                           id2word=id2word,\n",
    "                                           num_topics=4, \n",
    "                                           random_state=100,\n",
    "                                           update_every=1,\n",
    "                                           chunksize=100,\n",
    "                                           passes=10,\n",
    "                                           alpha='auto',\n",
    "                                           per_word_topics=True)"
   ]
  },
  {
   "cell_type": "code",
   "execution_count": 180,
   "metadata": {},
   "outputs": [
    {
     "name": "stdout",
     "output_type": "stream",
     "text": [
      "[(0,\n",
      "  '0.013*\"салат\" + 0.011*\"соус\" + 0.010*\"суп\" + 0.009*\"блюдо\" + 0.008*\"вкус\" + '\n",
      "  '0.007*\"мясо\" + 0.005*\"меню\" + 0.005*\"тарелка\" + 0.004*\"овощ\" + 0.004*\"р\"'),\n",
      " (1,\n",
      "  '0.006*\"краб\" + 0.005*\"вафля\" + 0.004*\"мыть\" + 0.003*\"кальмар\" + '\n",
      "  '0.003*\"висеть\" + 0.003*\"цвет\" + 0.002*\"прибыть\" + 0.002*\"рэ\" + '\n",
      "  '0.002*\"стекло\" + 0.002*\"порог\"'),\n",
      " (2,\n",
      "  '0.015*\"понравиться\" + 0.015*\"кухня\" + 0.014*\"место\" + 0.014*\"хороший\" + '\n",
      "  '0.013*\"вкусный\" + 0.011*\"весь\" + 0.009*\"приятный\" + 0.009*\"обслуживание\" + '\n",
      "  '0.008*\"вкусно\" + 0.008*\"большой\"'),\n",
      " (3,\n",
      "  '0.008*\"сказать\" + 0.008*\"официант\" + 0.008*\"меню\" + 0.007*\"принести\" + '\n",
      "  '0.007*\"стол\" + 0.006*\"человек\" + 0.006*\"столик\" + 0.006*\"заказать\" + '\n",
      "  '0.005*\"официантка\" + 0.005*\"девушка\"')]\n"
     ]
    }
   ],
   "source": [
    "pprint(lda_model.print_topics())\n",
    "doc_lda = lda_model[corpus]"
   ]
  },
  {
   "cell_type": "code",
   "execution_count": null,
   "metadata": {},
   "outputs": [],
   "source": []
  },
  {
   "cell_type": "code",
   "execution_count": null,
   "metadata": {},
   "outputs": [],
   "source": []
  },
  {
   "cell_type": "code",
   "execution_count": null,
   "metadata": {},
   "outputs": [],
   "source": []
  }
 ],
 "metadata": {
  "kernelspec": {
   "display_name": "Python 3",
   "language": "python",
   "name": "python3"
  },
  "language_info": {
   "codemirror_mode": {
    "name": "ipython",
    "version": 3
   },
   "file_extension": ".py",
   "mimetype": "text/x-python",
   "name": "python",
   "nbconvert_exporter": "python",
   "pygments_lexer": "ipython3",
   "version": "3.7.4"
  }
 },
 "nbformat": 4,
 "nbformat_minor": 2
}
